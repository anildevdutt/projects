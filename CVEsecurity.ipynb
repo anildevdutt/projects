{
  "nbformat": 4,
  "nbformat_minor": 0,
  "metadata": {
    "colab": {
      "name": "CVEsecurity.ipynb",
      "provenance": [],
      "collapsed_sections": [],
      "authorship_tag": "ABX9TyPenbgATkgY7sL3/9MB+ykM",
      "include_colab_link": true
    },
    "kernelspec": {
      "name": "python3",
      "display_name": "Python 3"
    },
    "language_info": {
      "name": "python"
    }
  },
  "cells": [
    {
      "cell_type": "markdown",
      "metadata": {
        "id": "view-in-github",
        "colab_type": "text"
      },
      "source": [
        "<a href=\"https://colab.research.google.com/github/anildevdutt/projects/blob/master/CVEsecurity.ipynb\" target=\"_parent\"><img src=\"https://colab.research.google.com/assets/colab-badge.svg\" alt=\"Open In Colab\"/></a>"
      ]
    },
    {
      "cell_type": "code",
      "source": [
        "import requests\n",
        "import time\n",
        "from bs4 import BeautifulSoup\n",
        "\n",
        "url = \"https://www.cvedetails.com/vulnerability-list.php?page=\"\n",
        "\n",
        "#if you want data for specific year use the below url and change the year \n",
        "#url = \"https://www.cvedetails.com/vulnerability-list.php?year=2022&page=\"\n",
        "\n",
        "#there are 3491 pages in total\n",
        "lastPage = 3492\n",
        "\n",
        "\n",
        "for currentPage in range(1, lastPage):\n",
        "\n",
        "  # creating url for currentPage\n",
        "  currentPagreURL = url + str(currentPage)\n",
        "\n",
        "  #getting the html webpage from cve security website for currentPage\n",
        "  resp = requests.get(currentPagreURL)\n",
        "\n",
        "  #data will be sved to below file\n",
        "  filenm = \"page\" + str(currentPage) + \".csv\"\n",
        "  f = open(filenm, \"w\")\n",
        "\n",
        "  #Converting the html string to object\n",
        "  s = BeautifulSoup(resp.text, \"lxml\")\n",
        "\n",
        "  #getting all the rows in out html table\n",
        "  data = s.find_all(\"tr\", class_ = \"srrowns\")\n",
        "\n",
        "  #extractign column value for each row and writing to a csv file\n",
        "  for row in data:\n",
        "    rowdata = \"\"    \n",
        "    for cell in row.find_all(\"td\"):\n",
        "      rowdata += cell.text.strip() + \",\"\n",
        "    f.write(rowdata + \"\\n\")\n",
        "  f.close()\n",
        "\n",
        "  print(\"Got page \" + str(currentPage) + \"/\" + str(lastPage - 1))\n",
        "\n",
        "  #adding delay between requests so that csv website does not block us\n",
        "  time.sleep(1)"
      ],
      "metadata": {
        "colab": {
          "base_uri": "https://localhost:8080/"
        },
        "id": "S3kyhuk-Avy-",
        "outputId": "1525e9fc-5364-44ca-fc84-b97a77cd8ad0"
      },
      "execution_count": null,
      "outputs": [
        {
          "output_type": "stream",
          "name": "stdout",
          "text": [
            "Got page 1/3491\n",
            "Got page 2/3491\n",
            "Got page 3/3491\n",
            "Got page 4/3491\n",
            "Got page 5/3491\n",
            "Got page 6/3491\n",
            "Got page 7/3491\n",
            "Got page 8/3491\n",
            "Got page 9/3491\n",
            "Got page 10/3491\n",
            "Got page 11/3491\n",
            "Got page 12/3491\n",
            "Got page 13/3491\n",
            "Got page 14/3491\n",
            "Got page 15/3491\n",
            "Got page 16/3491\n",
            "Got page 17/3491\n",
            "Got page 18/3491\n",
            "Got page 19/3491\n",
            "Got page 20/3491\n",
            "Got page 21/3491\n",
            "Got page 22/3491\n",
            "Got page 23/3491\n",
            "Got page 24/3491\n",
            "Got page 25/3491\n",
            "Got page 26/3491\n",
            "Got page 27/3491\n",
            "Got page 28/3491\n",
            "Got page 29/3491\n",
            "Got page 30/3491\n",
            "Got page 31/3491\n",
            "Got page 32/3491\n",
            "Got page 33/3491\n",
            "Got page 34/3491\n",
            "Got page 35/3491\n",
            "Got page 36/3491\n",
            "Got page 37/3491\n",
            "Got page 38/3491\n",
            "Got page 39/3491\n"
          ]
        }
      ]
    }
  ]
}